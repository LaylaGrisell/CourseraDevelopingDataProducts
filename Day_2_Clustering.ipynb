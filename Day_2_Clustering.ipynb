{
  "cells": [
    {
      "cell_type": "markdown",
      "metadata": {
        "id": "view-in-github",
        "colab_type": "text"
      },
      "source": [
        "<a href=\"https://colab.research.google.com/github/LaylaGrisell/CourseraDevelopingDataProducts/blob/main/Day_2_Clustering.ipynb\" target=\"_parent\"><img src=\"https://colab.research.google.com/assets/colab-badge.svg\" alt=\"Open In Colab\"/></a>"
      ]
    },
    {
      "cell_type": "markdown",
      "metadata": {
        "id": "2aYGMqhykigv"
      },
      "source": [
        "# Day 2  Clustering"
      ]
    },
    {
      "cell_type": "markdown",
      "metadata": {
        "id": "Xi64q_7gkig0"
      },
      "source": [
        "### K-Means Clustering"
      ]
    },
    {
      "cell_type": "code",
      "execution_count": null,
      "metadata": {
        "id": "_uXeL9_1kig1"
      },
      "outputs": [],
      "source": [
        "# Importing the libraries\n",
        "import numpy as np\n",
        "import matplotlib.pyplot as plt\n",
        "import pandas as pd"
      ]
    },
    {
      "cell_type": "code",
      "source": [
        "# Importing the dataset\n",
        "dataset = pd.read_csv('Mall_Customers.csv')\n",
        "dataset"
      ],
      "metadata": {
        "id": "YyLCeFDSryiY"
      },
      "execution_count": null,
      "outputs": []
    },
    {
      "cell_type": "code",
      "source": [
        "X = dataset.iloc[:, [3, 4]].values\n",
        "# y = dataset.iloc[:, 3].values"
      ],
      "metadata": {
        "id": "5x5rI8i9shbE"
      },
      "execution_count": null,
      "outputs": []
    },
    {
      "cell_type": "code",
      "execution_count": null,
      "metadata": {
        "id": "eTC6waxOkig6"
      },
      "outputs": [],
      "source": [
        "# Using the elbow method to find the optimal number of clusters\n",
        "from sklearn.cluster import KMeans\n",
        "wcss = []\n",
        "for i in range(1, 11):\n",
        "    kmeans = KMeans(n_clusters = i, init = 'k-means++', random_state = 42)\n",
        "    kmeans.fit(X)\n",
        "    wcss.append(kmeans.inertia_)\n",
        "plt.plot(range(1, 11), wcss)\n",
        "plt.title('The Elbow Method')\n",
        "plt.xlabel('Number of clusters')\n",
        "plt.ylabel('WCSS')\n",
        "plt.show()\n"
      ]
    },
    {
      "cell_type": "code",
      "execution_count": null,
      "metadata": {
        "id": "t_mbpvUmkig7"
      },
      "outputs": [],
      "source": [
        "# Fitting K-Means to the dataset\n",
        "kmeans = KMeans(n_clusters = 5, init = 'k-means++', random_state = 42)\n",
        "y_kmeans = kmeans.fit_predict(X)\n",
        "y_kmeans"
      ]
    },
    {
      "cell_type": "code",
      "execution_count": null,
      "metadata": {
        "scrolled": true,
        "id": "TPBddmPwkig8"
      },
      "outputs": [],
      "source": [
        "# Visualising the clusters\n",
        "plt.scatter(X[y_kmeans == 0, 0], X[y_kmeans == 0, 1], s = 100, c = 'red', label = 'Cluster 1')\n",
        "plt.scatter(X[y_kmeans == 1, 0], X[y_kmeans == 1, 1], s = 100, c = 'blue', label = 'Cluster 2')\n",
        "plt.scatter(X[y_kmeans == 2, 0], X[y_kmeans == 2, 1], s = 100, c = 'green', label = 'Cluster 3')\n",
        "plt.scatter(X[y_kmeans == 3, 0], X[y_kmeans == 3, 1], s = 100, c = 'cyan', label = 'Cluster 4')\n",
        "plt.scatter(X[y_kmeans == 4, 0], X[y_kmeans == 4, 1], s = 100, c = 'magenta', label = 'Cluster 5')\n",
        "plt.scatter(kmeans.cluster_centers_[:, 0], kmeans.cluster_centers_[:, 1], s = 300, c = 'yellow', label = 'Centroids')\n",
        "plt.title('Clusters of customers')\n",
        "plt.xlabel('Annual Income (k$)')\n",
        "plt.ylabel('Spending Score (1-100)')\n",
        "plt.legend()\n",
        "plt.show()"
      ]
    },
    {
      "cell_type": "markdown",
      "metadata": {
        "id": "lsIyKbU7kig9"
      },
      "source": [
        "### Hierarchical Clustering"
      ]
    },
    {
      "cell_type": "code",
      "execution_count": null,
      "metadata": {
        "scrolled": true,
        "id": "qLBkjP5rkig9"
      },
      "outputs": [],
      "source": [
        "# Using the dendrogram to find the optimal number of clusters\n",
        "import scipy.cluster.hierarchy as sch\n",
        "dendrogram = sch.dendrogram(sch.linkage(X, method = 'ward'))\n",
        "plt.title('Dendrogram')\n",
        "plt.xlabel('Customers')\n",
        "plt.ylabel('Euclidean distances')\n",
        "plt.show()"
      ]
    },
    {
      "cell_type": "code",
      "source": [
        "# Fitting Hierarchical Clustering to the dataset\n",
        "from sklearn.cluster import AgglomerativeClustering\n",
        "hc = AgglomerativeClustering(n_clusters = 5, affinity = 'euclidean', linkage = 'ward')\n",
        "y_hc = hc.fit_predict(X)\n",
        "\n"
      ],
      "metadata": {
        "id": "7p1OKfpvuFOu"
      },
      "execution_count": null,
      "outputs": []
    },
    {
      "cell_type": "code",
      "source": [
        "# Visualising the clusters\n",
        "plt.scatter(X[y_hc == 0, 0], X[y_hc == 0, 1], s = 100, c = 'red', label = 'Cluster 1')\n",
        "plt.scatter(X[y_hc == 1, 0], X[y_hc == 1, 1], s = 100, c = 'blue', label = 'Cluster 2')\n",
        "plt.scatter(X[y_hc == 2, 0], X[y_hc == 2, 1], s = 100, c = 'green', label = 'Cluster 3')\n",
        "plt.scatter(X[y_hc == 3, 0], X[y_hc == 3, 1], s = 100, c = 'cyan', label = 'Cluster 4')\n",
        "plt.scatter(X[y_hc == 4, 0], X[y_hc == 4, 1], s = 100, c = 'magenta', label = 'Cluster 5')\n",
        "plt.title('Clusters of customers')\n",
        "plt.xlabel('Annual Income (k$)')\n",
        "plt.ylabel('Spending Score (1-100)')\n",
        "plt.legend()\n",
        "plt.show()"
      ],
      "metadata": {
        "id": "idB_FbF7uLZm"
      },
      "execution_count": null,
      "outputs": []
    },
    {
      "cell_type": "markdown",
      "metadata": {
        "id": "uJZf-wVUkihA"
      },
      "source": [
        "## Calculating Silhouette Score\n",
        "#### Importing libraries:"
      ]
    },
    {
      "cell_type": "code",
      "execution_count": null,
      "metadata": {
        "id": "TVQzFgzMkihB"
      },
      "outputs": [],
      "source": [
        "import pandas as pd\n",
        "import numpy as np\n",
        "import seaborn as sns\n",
        "from sklearn.cluster import KMeans\n",
        "from sklearn.metrics import silhouette_score\n",
        "%matplotlib inline"
      ]
    },
    {
      "cell_type": "markdown",
      "metadata": {
        "id": "wiQuzQq8kihB"
      },
      "source": [
        "#### Generating some random data:\n",
        "\n",
        "###### To run clustering algorithm we are generating 100 random points."
      ]
    },
    {
      "cell_type": "code",
      "execution_count": null,
      "metadata": {
        "id": "izBHzS6EkihB"
      },
      "outputs": [],
      "source": [
        "X= np.random.rand(50,2)\n",
        "Y= 2 + np.random.rand(50,2)\n",
        "Z= np.concatenate((X,Y))\n",
        "Z=pd.DataFrame(Z) #converting into data frame for ease"
      ]
    },
    {
      "cell_type": "markdown",
      "metadata": {
        "id": "kKwqf9ZdkihC"
      },
      "source": [
        "###### Plotting the data:"
      ]
    },
    {
      "cell_type": "code",
      "execution_count": null,
      "metadata": {
        "id": "rpKz5kA3kihC"
      },
      "outputs": [],
      "source": [
        "sns.scatterplot(Z[0],Z[1])"
      ]
    },
    {
      "cell_type": "markdown",
      "metadata": {
        "id": "yhDSHwGKkihC"
      },
      "source": [
        "###### Applying KMeans Clustering with 2 clusters:"
      ]
    },
    {
      "cell_type": "code",
      "execution_count": null,
      "metadata": {
        "id": "tJGRZGNlkihD"
      },
      "outputs": [],
      "source": [
        "KMean= KMeans(n_clusters=2)\n",
        "KMean.fit(Z)\n",
        "label=KMean.predict(Z)"
      ]
    },
    {
      "cell_type": "markdown",
      "metadata": {
        "id": "40xLT-gYkihD"
      },
      "source": [
        "###### Calculating the silhouette score:"
      ]
    },
    {
      "cell_type": "code",
      "execution_count": null,
      "metadata": {
        "id": "dUIK_5vZkihD"
      },
      "outputs": [],
      "source": [
        "print(f'Silhouette Score(n=2): {silhouette_score(Z, label)}')"
      ]
    },
    {
      "cell_type": "markdown",
      "metadata": {
        "id": "dPzTPmp6kihD"
      },
      "source": [
        "We can say that the clusters are well apart from each other as the silhouette score is closer to 1.\n",
        "\n",
        "To check whether our silhouette score is providing the right information or not let’s create another scatter plot showing labelled data points."
      ]
    },
    {
      "cell_type": "code",
      "execution_count": null,
      "metadata": {
        "id": "x4OkdYBUkihE"
      },
      "outputs": [],
      "source": [
        "sns.scatterplot(Z[0],Z[1],hue=label)"
      ]
    },
    {
      "cell_type": "markdown",
      "metadata": {
        "id": "tyURiNEwkihE"
      },
      "source": [
        "Let’s try with 3 clusters:"
      ]
    },
    {
      "cell_type": "code",
      "execution_count": null,
      "metadata": {
        "id": "g5hr4TDjkihE"
      },
      "outputs": [],
      "source": [
        "KMean= KMeans(n_clusters=3)\n",
        "KMean.fit(Z)\n",
        "label=KMean.predict(Z)\n",
        "print(f\"Silhouette Score(n=3): {silhouette_score(Z, label)}\")\n",
        "sns.scatterplot(Z[0],Z[1],hue=label,palette=\"inferno_r\")"
      ]
    },
    {
      "cell_type": "markdown",
      "metadata": {
        "id": "obXgeciKkihF"
      },
      "source": [
        "### K Means vs DBSCAN"
      ]
    },
    {
      "cell_type": "code",
      "execution_count": null,
      "metadata": {
        "id": "wlTpWsjRkihF"
      },
      "outputs": [],
      "source": [
        "import pandas as pd\n",
        "from sklearn import metrics\n",
        "from sklearn.cluster import KMeans\n",
        "import matplotlib.pyplot as plt\n",
        "\n",
        "# reading the classic iris dataset into a df\n",
        "iris_df = sns.load_dataset('iris')\n",
        "iris_df"
      ]
    },
    {
      "cell_type": "code",
      "source": [
        "# Setting the independent features (input)\n",
        "X = iris_df.drop(\"species\", axis=1).values"
      ],
      "metadata": {
        "id": "jdYg08royUXe"
      },
      "execution_count": null,
      "outputs": []
    },
    {
      "cell_type": "code",
      "source": [
        "# Arbitrarily selecting a range of values for K\n",
        "K = range(1,10)\n",
        "sum_of_squared_distances = []\n",
        "# Using Scikit Learn’s KMeans Algorithm to find sum of squared distances\n",
        "for k in K:\n",
        "    model = KMeans(n_clusters=k).fit(X)\n",
        "    sum_of_squared_distances.append(model.inertia_)\n",
        "plt.plot(K, sum_of_squared_distances, \"bx-\")\n",
        "plt.xlabel(\"K values\")\n",
        "plt.ylabel(\"Sum of Squared Distances\")\n",
        "plt.title(\"Elbow Method\")\n",
        "plt.show()"
      ],
      "metadata": {
        "id": "mmDBNwUeyn6_"
      },
      "execution_count": null,
      "outputs": []
    },
    {
      "cell_type": "code",
      "source": [
        "# Creating the KMeans object and fitting it to the Iris data\n",
        "iris_kmeans = KMeans(n_clusters=3)\n",
        "iris_kmeans.fit(X)\n"
      ],
      "metadata": {
        "id": "bY_k-H2IyeXD"
      },
      "execution_count": null,
      "outputs": []
    },
    {
      "cell_type": "code",
      "source": [
        "# Predicting the cluster labels\n",
        "labels = iris_kmeans.predict(X)\n",
        "print(labels)\n"
      ],
      "metadata": {
        "id": "Ht9650pLyev-"
      },
      "execution_count": null,
      "outputs": []
    },
    {
      "cell_type": "code",
      "source": [
        "# Finding the final centroids\n",
        "centroids = iris_kmeans.cluster_centers_\n",
        "centroids"
      ],
      "metadata": {
        "id": "8CEYvavPye5D"
      },
      "execution_count": null,
      "outputs": []
    },
    {
      "cell_type": "code",
      "source": [
        "# Evaluating the quality of clusters\n",
        "s = metrics.silhouette_score(X, labels, metric=\"euclidean\")\n",
        "print(f\"Silhouette Coefficient for the Iris Dataset Clusters: {s:.2f}\")"
      ],
      "metadata": {
        "id": "AsGxwK5XynxQ"
      },
      "execution_count": null,
      "outputs": []
    },
    {
      "cell_type": "code",
      "source": [
        "# plotting the clusters using sepal_length and sepal_width\n",
        "plt.scatter(X[:, 0], X[:, 1], c=labels, cmap=\"rainbow\")\n",
        "plt.show()"
      ],
      "metadata": {
        "id": "mkEYq4r-yn0T"
      },
      "execution_count": null,
      "outputs": []
    },
    {
      "cell_type": "code",
      "execution_count": null,
      "metadata": {
        "id": "gPb3GQFUkihG"
      },
      "outputs": [],
      "source": [
        "# DBSCAN Clustering for the Iris Dataset using Scikit Learn\n",
        "import pandas as pd\n",
        "from sklearn import metrics\n",
        "from sklearn.cluster import DBSCAN\n",
        "import matplotlib.pyplot as plt\n",
        "# reading the classic iris dataset into a df\n",
        "iris_df = sns.load_dataset(\"iris\")\n",
        "print('iris_df', iris_df)"
      ]
    },
    {
      "cell_type": "code",
      "source": [
        "X = iris_df.drop(\"species\", axis=1).values"
      ],
      "metadata": {
        "id": "tZLxZi_UzH0q"
      },
      "execution_count": null,
      "outputs": []
    },
    {
      "cell_type": "code",
      "source": [
        "iris_dbscan = DBSCAN(eps=0.5, min_samples=5)\n",
        "iris_dbscan.fit(X)\n",
        "labels = iris_dbscan.labels_\n",
        "# label=-1 means the point is an outlier. Rest of the values represent the label/cluster number starting from 0\n",
        "print(labels)\n"
      ],
      "metadata": {
        "id": "_WtYHJxmzIPs"
      },
      "execution_count": null,
      "outputs": []
    },
    {
      "cell_type": "code",
      "source": [
        "# Creating a numpy array with all values set to false by default\n",
        "core_samples_mask = np.zeros_like(labels, dtype=bool)\n",
        "# Setting core and border points (all points that are not -1) to True\n",
        "core_samples_mask[iris_dbscan.core_sample_indices_] = True\n"
      ],
      "metadata": {
        "id": "FhXuBYlZzIZJ"
      },
      "execution_count": null,
      "outputs": []
    },
    {
      "cell_type": "code",
      "source": [
        "# Finding the number of clusters in labels (ignoring noise if present)\n",
        "n_clusters_ = len(set(labels)) # (1 if -1 in labels else 0)\n",
        "n_noise_ = list(labels).count(-1)"
      ],
      "metadata": {
        "id": "aeB3AP-8zbGV"
      },
      "execution_count": null,
      "outputs": []
    },
    {
      "cell_type": "code",
      "source": [
        "# Printing the number of clusters and number of noise points (outliers)\n",
        "print(\"Estimated number of clusters: %d\" % n_clusters_)\n",
        "print(\"Estimated number of noise points: %d\" % n_noise_)"
      ],
      "metadata": {
        "id": "QsVcSlfBzbJj"
      },
      "execution_count": null,
      "outputs": []
    },
    {
      "cell_type": "code",
      "source": [
        "# Evaluating the quality of clusters\n",
        "s = metrics.silhouette_score(X, iris_dbscan.labels_)\n",
        "print(f\"Silhouette Coefficient for the Iris Dataset Clusters: {s:.2f}\")"
      ],
      "metadata": {
        "id": "ItvZ3kIZzbNh"
      },
      "execution_count": null,
      "outputs": []
    }
  ],
  "metadata": {
    "kernelspec": {
      "display_name": "Python 3",
      "language": "python",
      "name": "python3"
    },
    "language_info": {
      "codemirror_mode": {
        "name": "ipython",
        "version": 3
      },
      "file_extension": ".py",
      "mimetype": "text/x-python",
      "name": "python",
      "nbconvert_exporter": "python",
      "pygments_lexer": "ipython3",
      "version": "3.7.6"
    },
    "colab": {
      "provenance": [],
      "include_colab_link": true
    }
  },
  "nbformat": 4,
  "nbformat_minor": 0
}